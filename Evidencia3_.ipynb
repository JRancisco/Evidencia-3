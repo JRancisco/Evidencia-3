{
  "nbformat": 4,
  "nbformat_minor": 0,
  "metadata": {
    "colab": {
      "provenance": []
    },
    "kernelspec": {
      "name": "python3",
      "display_name": "Python 3"
    },
    "language_info": {
      "name": "python"
    }
  },
  "cells": [
    {
      "cell_type": "code",
      "execution_count": 8,
      "metadata": {
        "colab": {
          "base_uri": "https://localhost:8080/"
        },
        "id": "3nixfxWc5e_4",
        "outputId": "88d7a680-0ad6-4522-d58c-731ff9907ab3"
      },
      "outputs": [
        {
          "output_type": "stream",
          "name": "stdout",
          "text": [
            "Objeto Original:\n",
            "Nombre: Ejemplo, Edad: 30\n",
            "\n",
            "Objeto Recuperado:\n",
            "Nombre: Ejemplo, Edad: 30\n",
            "¿Desea eliminar el archivo? (Sí/No): Si\n",
            "El archivo 'objeto_serializado.pickle' ha sido eliminado.\n",
            "¿Desea recuperar el archivo? (Sí/No): Si\n",
            "El archivo 'objeto_serializado.pickle' no existe. Creando uno nuevo...\n",
            "Información del objeto recuperado:\n",
            "Nombre: Ejemplo, Edad: 30\n"
          ]
        }
      ],
      "source": [
        "import os\n",
        "\n",
        "class EjemploObjeto:\n",
        "    def __init__(self, nombre, edad):\n",
        "        self.nombre = nombre\n",
        "        self.edad = edad\n",
        "\n",
        "def serializar_objeto(objeto, archivo):\n",
        "    with open(archivo, 'wb') as archivo_serializado:\n",
        "        pickle.dump(objeto, archivo_serializado)\n",
        "\n",
        "def deserializar_objeto(archivo):\n",
        "    with open(archivo, 'rb') as archivo_serializado:\n",
        "        objeto_recuperado = pickle.load(archivo_serializado)\n",
        "    return objeto_recuperado\n",
        "\n",
        "def eliminar_archivo(archivo):\n",
        "    if os.path.exists(archivo):\n",
        "        os.remove(archivo)\n",
        "        print(f\"El archivo '{archivo}' ha sido eliminado.\")\n",
        "    else:\n",
        "        print(f\"El archivo '{archivo}' no existe.\")\n",
        "\n",
        "def recuperar_archivo(archivo, objeto_original):\n",
        "    if os.path.exists(archivo):\n",
        "        print(f\"Recuperando el archivo '{archivo}'...\")\n",
        "        objeto_recuperado = deserializar_objeto(archivo)\n",
        "        print(\"Objeto Recuperado:\")\n",
        "        print(f\"Nombre: {objeto_recuperado.nombre}, Edad: {objeto_recuperado.edad}\")\n",
        "        return objeto_recuperado\n",
        "    else:\n",
        "        print(f\"El archivo '{archivo}' no existe. Creando uno nuevo...\")\n",
        "        serializar_objeto(objeto_original, archivo)\n",
        "        return objeto_original\n",
        "\n",
        "# Crear una instancia de la clase\n",
        "objeto_original = EjemploObjeto(nombre=\"Ejemplo\", edad=30)\n",
        "archivo_pickle = \"objeto_serializado.pickle\"\n",
        "\n",
        "# Serializar el objeto y guardarlo en un archivo binario\n",
        "serializar_objeto(objeto_original, archivo_pickle)\n",
        "\n",
        "# Recuperar el objeto del archivo\n",
        "objeto_recuperado = deserializar_objeto(archivo_pickle)\n",
        "\n",
        "# Mostrar la información del objeto original y del objeto recuperado\n",
        "print(\"Objeto Original:\")\n",
        "print(f\"Nombre: {objeto_original.nombre}, Edad: {objeto_original.edad}\")\n",
        "\n",
        "print(\"\\nObjeto Recuperado:\")\n",
        "print(f\"Nombre: {objeto_recuperado.nombre}, Edad: {objeto_recuperado.edad}\")\n",
        "\n",
        "# Opción para eliminar el archivo\n",
        "eliminar = input(\"¿Desea eliminar el archivo? (Sí/No): \").lower()\n",
        "if eliminar == 'si':\n",
        "    eliminar_archivo(archivo_pickle)\n",
        "    recuperar = input(\"¿Desea recuperar el archivo? (Sí/No): \").lower()\n",
        "    if recuperar == 'si':\n",
        "        objeto_recuperado = recuperar_archivo(archivo_pickle, objeto_original)\n",
        "        print(\"Información del objeto recuperado:\")\n",
        "        print(f\"Nombre: {objeto_recuperado.nombre}, Edad: {objeto_recuperado.edad}\")\n",
        "else:\n",
        "    print(\"El archivo no fue eliminado.\")\n"
      ]
    }
  ]
}